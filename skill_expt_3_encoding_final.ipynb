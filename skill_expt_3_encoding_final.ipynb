{
  "nbformat": 4,
  "nbformat_minor": 0,
  "metadata": {
    "colab": {
      "provenance": [],
      "include_colab_link": true
    },
    "kernelspec": {
      "name": "python3",
      "display_name": "Python 3"
    },
    "language_info": {
      "name": "python"
    }
  },
  "cells": [
    {
      "cell_type": "markdown",
      "metadata": {
        "id": "view-in-github",
        "colab_type": "text"
      },
      "source": [
        "<a href=\"https://colab.research.google.com/github/aaryanamrute/skill/blob/main/skill_expt_3_encoding_final.ipynb\" target=\"_parent\"><img src=\"https://colab.research.google.com/assets/colab-badge.svg\" alt=\"Open In Colab\"/></a>"
      ]
    },
    {
      "cell_type": "markdown",
      "source": [
        "Lable encoding"
      ],
      "metadata": {
        "id": "C9VYNirG09xd"
      }
    },
    {
      "cell_type": "code",
      "execution_count": null,
      "metadata": {
        "colab": {
          "base_uri": "https://localhost:8080/"
        },
        "id": "4jKlE-EZzhxD",
        "outputId": "6e5c8d71-041e-48ca-fa6e-df7ff419d56b"
      },
      "outputs": [
        {
          "output_type": "stream",
          "name": "stdout",
          "text": [
            "Original Dataset:\n",
            "   SepalLength  SepalWidth  PetalLength  PetalWidth      Species\n",
            "0          5.1         3.5          1.4         0.2  Iris-setosa\n",
            "1          4.9         3.0          1.4         0.2  Iris-setosa\n",
            "2          4.7         3.2          1.3         0.2  Iris-setosa\n",
            "3          4.6         3.1          1.5         0.2  Iris-setosa\n",
            "4          5.0         3.6          1.4         0.2  Iris-setosa\n",
            "\n",
            "Dataset after Label Encoding (Species column transformed to numbers):\n",
            "       Species  Species_LabelEncoded\n",
            "0  Iris-setosa                     0\n",
            "1  Iris-setosa                     0\n",
            "2  Iris-setosa                     0\n",
            "3  Iris-setosa                     0\n",
            "4  Iris-setosa                     0\n"
          ]
        }
      ],
      "source": [
        "import pandas as pd\n",
        "from sklearn.preprocessing import LabelEncoder\n",
        "\n",
        "url = \"https://archive.ics.uci.edu/ml/machine-learning-databases/iris/iris.data\"\n",
        "column_names = ['SepalLength', 'SepalWidth', 'PetalLength', 'PetalWidth', 'Species']\n",
        "\n",
        "df = pd.read_csv(url, header=None, names=column_names)\n",
        "\n",
        "print(\"Original Dataset:\")\n",
        "print(df.head())\n",
        "\n",
        "label_encoder = LabelEncoder()\n",
        "\n",
        "df['Species_LabelEncoded'] = label_encoder.fit_transform(df['Species'])\n",
        "\n",
        "print(\"\\nDataset after Label Encoding (Species column transformed to numbers):\")\n",
        "print(df[['Species', 'Species_LabelEncoded']].head())\n"
      ]
    },
    {
      "cell_type": "markdown",
      "source": [
        "one hot encoding"
      ],
      "metadata": {
        "id": "cjR6QCCr0KhN"
      }
    },
    {
      "cell_type": "code",
      "source": [
        "import pandas as pd\n",
        "from sklearn.preprocessing import OneHotEncoder\n",
        "\n",
        "url = \"https://archive.ics.uci.edu/ml/machine-learning-databases/iris/iris.data\"\n",
        "column_names = ['SepalLength', 'SepalWidth', 'PetalLength', 'PetalWidth', 'Species']\n",
        "\n",
        "# Read the dataset into a pandas dataframe\n",
        "df = pd.read_csv(url, header=None, names=column_names)\n",
        "\n",
        "# Display the first few rows of the dataset\n",
        "print(\"Original Dataset:\")\n",
        "print(df.head())\n",
        "\n",
        "# ----------------- One-Hot Encoding using OneHotEncoder -----------------\n",
        "# Initialize OneHotEncoder (sparse=False returns a dense matrix)\n",
        "encoder = OneHotEncoder(sparse=False)\n",
        "\n",
        "# Fit and transform the 'Species' column\n",
        "encoded_data = encoder.fit_transform(df[['Species']])\n",
        "\n",
        "# Convert the encoded data into a DataFrame\n",
        "encoded_df = pd.DataFrame(encoded_data, columns=encoder.get_feature_names_out(['Species']))\n",
        "\n",
        "# Concatenate the encoded data with the original dataframe (excluding the original 'Species' column)\n",
        "df_one_hot_encoded = pd.concat([df.drop('Species', axis=1), encoded_df], axis=1)\n",
        "\n",
        "# Display the result after One-Hot Encoding\n",
        "print(\"\\nDataset after One-Hot Encoding using OneHotEncoder:\")\n",
        "print(df_one_hot_encoded.head())\n"
      ],
      "metadata": {
        "colab": {
          "base_uri": "https://localhost:8080/"
        },
        "id": "jvQnrNyQz59G",
        "outputId": "bbf2d735-4bdb-4234-d93d-2b22423b42aa"
      },
      "execution_count": null,
      "outputs": [
        {
          "output_type": "stream",
          "name": "stdout",
          "text": [
            "Original Dataset:\n",
            "   SepalLength  SepalWidth  PetalLength  PetalWidth      Species\n",
            "0          5.1         3.5          1.4         0.2  Iris-setosa\n",
            "1          4.9         3.0          1.4         0.2  Iris-setosa\n",
            "2          4.7         3.2          1.3         0.2  Iris-setosa\n",
            "3          4.6         3.1          1.5         0.2  Iris-setosa\n",
            "4          5.0         3.6          1.4         0.2  Iris-setosa\n",
            "\n",
            "Dataset after One-Hot Encoding:\n",
            "   SepalLength  SepalWidth  PetalLength  PetalWidth  Species_Iris-setosa  \\\n",
            "0          5.1         3.5          1.4         0.2                 True   \n",
            "1          4.9         3.0          1.4         0.2                 True   \n",
            "2          4.7         3.2          1.3         0.2                 True   \n",
            "3          4.6         3.1          1.5         0.2                 True   \n",
            "4          5.0         3.6          1.4         0.2                 True   \n",
            "\n",
            "   Species_Iris-versicolor  Species_Iris-virginica  \n",
            "0                    False                   False  \n",
            "1                    False                   False  \n",
            "2                    False                   False  \n",
            "3                    False                   False  \n",
            "4                    False                   False  \n"
          ]
        }
      ]
    }
  ]
}