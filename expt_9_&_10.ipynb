{
  "nbformat": 4,
  "nbformat_minor": 0,
  "metadata": {
    "colab": {
      "provenance": [],
      "mount_file_id": "1lVzbZtyCWJStZpSGJHGk9sV_p45Bk6j7",
      "authorship_tag": "ABX9TyP2X1wz+tLxmjMIkFulONpF",
      "include_colab_link": true
    },
    "kernelspec": {
      "name": "python3",
      "display_name": "Python 3"
    },
    "language_info": {
      "name": "python"
    }
  },
  "cells": [
    {
      "cell_type": "markdown",
      "metadata": {
        "id": "view-in-github",
        "colab_type": "text"
      },
      "source": [
        "<a href=\"https://colab.research.google.com/github/aaryanamrute/skill/blob/main/expt_9_%26_10.ipynb\" target=\"_parent\"><img src=\"https://colab.research.google.com/assets/colab-badge.svg\" alt=\"Open In Colab\"/></a>"
      ]
    },
    {
      "cell_type": "code",
      "execution_count": 1,
      "metadata": {
        "id": "VQsQgGnhqdGJ",
        "colab": {
          "base_uri": "https://localhost:8080/"
        },
        "outputId": "e287087b-390b-421d-a8f9-51275e1f48ae"
      },
      "outputs": [
        {
          "output_type": "stream",
          "name": "stdout",
          "text": [
            "Selected Features using Wrapper Techniques:\n",
            "Forward_Selection: ['Glucose', 'BloodPressure', 'BMI', 'DiabetesPedigreeFunction']\n",
            "Backward_Elimination: ['Glucose', 'BMI', 'DiabetesPedigreeFunction', 'Age']\n",
            "RFE: ['Pregnancies', 'Glucose', 'BloodPressure', 'BMI', 'DiabetesPedigreeFunction']\n",
            "RFE_CV: ['Pregnancies', 'Glucose', 'BloodPressure', 'Insulin', 'BMI', 'DiabetesPedigreeFunction', 'Age']\n"
          ]
        }
      ],
      "source": [
        "# Required Libraries\n",
        "import pandas as pd\n",
        "import numpy as np\n",
        "from sklearn.feature_selection import RFE, RFECV\n",
        "from sklearn.linear_model import LogisticRegression\n",
        "from sklearn.feature_selection import SequentialFeatureSelector\n",
        "from sklearn.preprocessing import StandardScaler\n",
        "\n",
        "# Load the diabetes dataset\n",
        "file_path = \"/content/diabetes (3).csv\"  # <-- Update the path if needed\n",
        "df = pd.read_csv(file_path)\n",
        "\n",
        "# Splitting features and target variable\n",
        "X = df.drop(columns=[\"Outcome\"])\n",
        "y = df[\"Outcome\"]\n",
        "\n",
        "# Standardize the data for logistic regression\n",
        "scaler = StandardScaler()\n",
        "X_scaled = scaler.fit_transform(X)\n",
        "\n",
        "# Define the model for feature selection\n",
        "model = LogisticRegression(max_iter=5000, random_state=42)\n",
        "\n",
        "# --- 1. Forward Selection ---\n",
        "forward_selector = SequentialFeatureSelector(model, n_features_to_select=\"auto\", direction=\"forward\", cv=5)\n",
        "forward_selector.fit(X_scaled, y)\n",
        "forward_selected_features = X.columns[forward_selector.get_support()]\n",
        "\n",
        "# --- 2. Backward Elimination ---\n",
        "backward_selector = SequentialFeatureSelector(model, n_features_to_select=\"auto\", direction=\"backward\", cv=5)\n",
        "backward_selector.fit(X_scaled, y)\n",
        "backward_selected_features = X.columns[backward_selector.get_support()]\n",
        "\n",
        "# --- 3. Recursive Feature Elimination (RFE) ---\n",
        "rfe_selector = RFE(model, n_features_to_select=5)  # Selecting 5 best features\n",
        "rfe_selector.fit(X_scaled, y)\n",
        "rfe_selected_features = X.columns[rfe_selector.get_support()]\n",
        "\n",
        "# --- 4. RFE with Cross-Validation (RFECV) ---\n",
        "rfecv_selector = RFECV(model, step=1, cv=5)\n",
        "rfecv_selector.fit(X_scaled, y)\n",
        "rfecv_selected_features = X.columns[rfecv_selector.get_support()]\n",
        "\n",
        "# Collecting results\n",
        "wrapper_results = {\n",
        "    \"Forward_Selection\": list(forward_selected_features),\n",
        "    \"Backward_Elimination\": list(backward_selected_features),\n",
        "    \"RFE\": list(rfe_selected_features),\n",
        "    \"RFE_CV\": list(rfecv_selected_features)\n",
        "}\n",
        "\n",
        "# Display the final results\n",
        "print(\"Selected Features using Wrapper Techniques:\")\n",
        "for method, features in wrapper_results.items():\n",
        "    print(f\"{method}: {features}\")\n"
      ]
    }
  ]
}