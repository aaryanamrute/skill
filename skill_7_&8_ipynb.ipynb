{
  "nbformat": 4,
  "nbformat_minor": 0,
  "metadata": {
    "colab": {
      "provenance": [],
      "authorship_tag": "ABX9TyNsyvmrm+m62pudQ6Nwb4Xd",
      "include_colab_link": true
    },
    "kernelspec": {
      "name": "python3",
      "display_name": "Python 3"
    },
    "language_info": {
      "name": "python"
    }
  },
  "cells": [
    {
      "cell_type": "markdown",
      "metadata": {
        "id": "view-in-github",
        "colab_type": "text"
      },
      "source": [
        "<a href=\"https://colab.research.google.com/github/aaryanamrute/skill/blob/main/skill_7_%268_ipynb.ipynb\" target=\"_parent\"><img src=\"https://colab.research.google.com/assets/colab-badge.svg\" alt=\"Open In Colab\"/></a>"
      ]
    },
    {
      "cell_type": "markdown",
      "source": [
        "expt 7 & 8"
      ],
      "metadata": {
        "id": "XCk6d33QWyUq"
      }
    },
    {
      "cell_type": "code",
      "source": [
        "# Required Libraries\n",
        "import pandas as pd\n",
        "import numpy as np\n",
        "from sklearn.model_selection import train_test_split\n",
        "from sklearn.feature_selection import f_classif, chi2, mutual_info_classif\n",
        "from sklearn.ensemble import RandomForestClassifier\n",
        "from sklearn.inspection import permutation_importance\n",
        "from sklearn.preprocessing import StandardScaler, MinMaxScaler\n",
        "\n",
        "# Load the diabetes dataset\n",
        "file_path = \"/content/diabetes (3).csv\"  # Update this if needed\n",
        "df = pd.read_csv(file_path)\n",
        "\n",
        "# Splitting features and target variable\n",
        "X = df.drop(columns=[\"Outcome\"])\n",
        "y = df[\"Outcome\"]\n",
        "\n",
        "# Standardization for numerical methods (ANOVA, Pearson, Mutual Info)\n",
        "scaler = StandardScaler()\n",
        "X_scaled = scaler.fit_transform(X)\n",
        "\n",
        "# Normalization for Chi-Square (it requires non-negative values)\n",
        "minmax_scaler = MinMaxScaler()\n",
        "X_normalized = minmax_scaler.fit_transform(X)\n",
        "\n",
        "# --- 1. ANOVA (F-Test) ---\n",
        "anova_scores, _ = f_classif(X_scaled, y)\n",
        "anova_results = dict(zip(X.columns, anova_scores))\n",
        "\n",
        "# --- 2. Chi-Square Test ---\n",
        "chi_scores, _ = chi2(X_normalized, y)\n",
        "chi_results = dict(zip(X.columns, chi_scores))\n",
        "\n",
        "# --- 3. Mutual Information (Information Gain) ---\n",
        "mi_scores = mutual_info_classif(X_scaled, y)\n",
        "mi_results = dict(zip(X.columns, mi_scores))\n",
        "\n",
        "# --- 4. Pearson's Correlation with target ---\n",
        "pearson_corr = {col: abs(df[col].corr(df[\"Outcome\"])) for col in X.columns}\n",
        "\n",
        "# --- 5. Random Forest Feature Importance ---\n",
        "rf_model = RandomForestClassifier(n_estimators=100, random_state=42)\n",
        "rf_model.fit(X, y)\n",
        "rf_importance = dict(zip(X.columns, rf_model.feature_importances_))\n",
        "\n",
        "# --- 6. Permutation Feature Importance ---\n",
        "perm_importance = permutation_importance(rf_model, X, y, n_repeats=10, random_state=42)\n",
        "perm_results = dict(zip(X.columns, perm_importance.importances_mean))\n",
        "\n",
        "# Combine all results into a DataFrame\n",
        "feature_scores = pd.DataFrame({\n",
        "    \"ANOVA_F\": anova_results,\n",
        "    \"Chi_Square\": chi_results,\n",
        "    \"Mutual_Info\": mi_results,\n",
        "    \"Pearson_Corr\": pearson_corr,\n",
        "    \"Random_Forest\": rf_importance,\n",
        "    \"Permutation_Importance\": perm_results\n",
        "})\n",
        "\n",
        "# Sort by Random Forest importance for better readability\n",
        "feature_scores_sorted = feature_scores.sort_values(by=\"Random_Forest\", ascending=False)\n",
        "\n",
        "# Display the final feature scores\n",
        "print(feature_scores_sorted)\n"
      ],
      "metadata": {
        "id": "EwCaGVtvcw1O",
        "colab": {
          "base_uri": "https://localhost:8080/"
        },
        "outputId": "52dc7b36-be29-4f1e-8b17-7c0d547ec51c"
      },
      "execution_count": 9,
      "outputs": [
        {
          "output_type": "stream",
          "name": "stdout",
          "text": [
            "                             ANOVA_F  Chi_Square  Mutual_Info  Pearson_Corr  \\\n",
            "Glucose                   213.161752    7.094910     0.114818      0.466581   \n",
            "BMI                        71.772072    1.902673     0.073949      0.292695   \n",
            "Age                        46.140611    8.205691     0.057618      0.238356   \n",
            "DiabetesPedigreeFunction   23.871300    2.758584     0.013494      0.173844   \n",
            "BloodPressure               3.256950    0.144306     0.000000      0.065068   \n",
            "Pregnancies                39.670227    6.559982     0.056912      0.221898   \n",
            "Insulin                    13.281108    2.571590     0.038562      0.130548   \n",
            "SkinThickness               4.304381    0.536445     0.023480      0.074752   \n",
            "\n",
            "                          Random_Forest  Permutation_Importance  \n",
            "Glucose                        0.267142                0.208984  \n",
            "BMI                            0.168769                0.106380  \n",
            "Age                            0.131567                0.089453  \n",
            "DiabetesPedigreeFunction       0.122695                0.058854  \n",
            "BloodPressure                  0.088660                0.037109  \n",
            "Pregnancies                    0.085017                0.042318  \n",
            "Insulin                        0.071547                0.026562  \n",
            "SkinThickness                  0.064604                0.019792  \n"
          ]
        }
      ]
    }
  ]
}