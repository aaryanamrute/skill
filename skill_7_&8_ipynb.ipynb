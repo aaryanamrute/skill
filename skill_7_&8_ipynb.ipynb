{
  "nbformat": 4,
  "nbformat_minor": 0,
  "metadata": {
    "colab": {
      "provenance": [],
      "mount_file_id": "1SNKX_80AI6hJL_IR7U2fKtINiM1DmM59",
      "authorship_tag": "ABX9TyMuHCIExfugkEKd8RqzNA6b",
      "include_colab_link": true
    },
    "kernelspec": {
      "name": "python3",
      "display_name": "Python 3"
    },
    "language_info": {
      "name": "python"
    }
  },
  "cells": [
    {
      "cell_type": "markdown",
      "metadata": {
        "id": "view-in-github",
        "colab_type": "text"
      },
      "source": [
        "<a href=\"https://colab.research.google.com/github/aaryanamrute/skill/blob/main/skill_7_%268_ipynb.ipynb\" target=\"_parent\"><img src=\"https://colab.research.google.com/assets/colab-badge.svg\" alt=\"Open In Colab\"/></a>"
      ]
    },
    {
      "cell_type": "markdown",
      "source": [
        "expt 7 & 8"
      ],
      "metadata": {
        "id": "XCk6d33QWyUq"
      }
    },
    {
      "cell_type": "code",
      "source": [
        "# Required Libraries\n",
        "import pandas as pd\n",
        "import numpy as np\n",
        "from sklearn.model_selection import train_test_split\n",
        "from sklearn.feature_selection import f_classif, chi2, mutual_info_classif\n",
        "from sklearn.preprocessing import StandardScaler, MinMaxScaler\n",
        "\n",
        "# Load the diabetes dataset\n",
        "file_path = \"/content/diabetes.csv\"  # Update this if needed\n",
        "df = pd.read_csv(file_path)\n",
        "\n",
        "# Splitting features and target variable\n",
        "X = df.drop(columns=[\"Outcome\"])\n",
        "y = df[\"Outcome\"]\n",
        "\n",
        "# Standardization for numerical methods (ANOVA, Pearson, Mutual Info)\n",
        "scaler = StandardScaler()\n",
        "X_scaled = scaler.fit_transform(X)\n",
        "\n",
        "# Normalization for Chi-Square (it requires non-negative values)\n",
        "minmax_scaler = MinMaxScaler()\n",
        "X_normalized = minmax_scaler.fit_transform(X)\n",
        "\n",
        "# 1. ANOVA\n",
        "anova_scores, _ = f_classif(X_scaled, y)\n",
        "anova_results = dict(zip(X.columns, anova_scores))\n",
        "\n",
        "# 2. Chi-Square Test\n",
        "chi_scores, _ = chi2(X_normalized, y)\n",
        "chi_results = dict(zip(X.columns, chi_scores))\n",
        "\n",
        "# 3. Mutual Information (Information Gain)\n",
        "mi_scores = mutual_info_classif(X_scaled, y)\n",
        "mi_results = dict(zip(X.columns, mi_scores))\n",
        "\n",
        "# 4. Pearson's Correlation with target\n",
        "pearson_corr = {col: abs(df[col].corr(df[\"Outcome\"])) for col in X.columns}\n",
        "\n",
        "# Combine all results into a DataFrame\n",
        "feature_scores = pd.DataFrame({\n",
        "    \"ANOVA_F\": anova_results,\n",
        "    \"Chi_Square\": chi_results,\n",
        "    \"Mutual_Info\": mi_results,\n",
        "    \"Pearson_Corr\": pearson_corr\n",
        "})\n",
        "\n",
        "# Sort by ANOVA F score for better readability (or any other feature)\n",
        "feature_scores_sorted = feature_scores.sort_values(by=\"ANOVA_F\", ascending=False)\n",
        "\n",
        "# Display the final feature scores\n",
        "print(feature_scores_sorted)\n"
      ],
      "metadata": {
        "colab": {
          "base_uri": "https://localhost:8080/"
        },
        "id": "6_kti_Bk8xBh",
        "outputId": "a9637b5e-e3aa-4eb7-9db9-57403f22c758"
      },
      "execution_count": 2,
      "outputs": [
        {
          "output_type": "stream",
          "name": "stdout",
          "text": [
            "                             ANOVA_F  Chi_Square  Mutual_Info  Pearson_Corr\n",
            "Glucose                   213.161752    7.094910     0.119289      0.466581\n",
            "BMI                        71.772072    1.902673     0.088762      0.292695\n",
            "Age                        46.140611    8.205691     0.061111      0.238356\n",
            "Pregnancies                39.670227    6.559982     0.003322      0.221898\n",
            "DiabetesPedigreeFunction   23.871300    2.758584     0.005063      0.173844\n",
            "Insulin                    13.281108    2.571590     0.018536      0.130548\n",
            "SkinThickness               4.304381    0.536445     0.022140      0.074752\n",
            "BloodPressure               3.256950    0.144306     0.004112      0.065068\n"
          ]
        }
      ]
    }
  ]
}